{
 "cells": [
  {
   "cell_type": "markdown",
   "metadata": {},
   "source": [
    "# ipconfig\n",
    "The ipconfig command is a command-line utility that is used to display and configure network configuration information on a computer. It is available on Windows, macOS, and Linux operating systems.\n",
    "\n",
    "The ipconfig command can be used to display the following information:\n",
    "\n",
    "- IP address: The IP address is a unique identifier that is assigned to each device on a network.\n",
    "- Subnet mask: The subnet mask is used to determine which parts of an IP address are used for the network address and which parts are used for the host address.\n",
    "- Default gateway: The default gateway is the address of the router that is used to connect to other networks.\n",
    "- DNS servers: The DNS servers are used to resolve hostnames to IP addresses.\n",
    "Ethernet adapter information: The Ethernet adapter information includes the MAC address, link speed, and duplex mode.\n",
    "\n",
    "The ipconfig command can also be used to configure the following network settings:\n",
    "- Obtaining an IP address automatically: This allows the computer to obtain an IP address from a DHCP server.\n",
    "- Specifying a static IP address: This allows the user to manually assign an IP address to the computer.\n",
    "- Releasing and renewing an IP address: This can be used to force the computer to obtain a new IP address from a DHCP server.\n",
    "- Flushing the DNS cache: This can be used to clear the DNS cache, which is a database of hostname-to-IP address mappings.\n",
    "\n",
    "The ipconfig command is a powerful tool that can be used to troubleshoot network problems and to configure network settings."
   ]
  },
  {
   "cell_type": "code",
   "execution_count": null,
   "metadata": {
    "vscode": {
     "languageId": "shellscript"
    }
   },
   "outputs": [],
   "source": [
    "# To display the IP address and subnet mask:\n",
    "ipconfig\n",
    "\n",
    "# To obtain an IP address automatically:\n",
    "ipconfig /release\n",
    "ipconfig /renew\n",
    "\n",
    "# To specify a static IP address:\n",
    "ipconfig /all\n",
    "\n",
    "# To flush the DNS cache:\n",
    "ipconfig /flushdns"
   ]
  }
 ],
 "metadata": {
  "kernelspec": {
   "display_name": "Python 3",
   "language": "python",
   "name": "python3"
  },
  "language_info": {
   "codemirror_mode": {
    "name": "ipython",
    "version": 3
   },
   "file_extension": ".py",
   "mimetype": "text/x-python",
   "name": "python",
   "nbconvert_exporter": "python",
   "pygments_lexer": "ipython3",
   "version": "3.11.4"
  },
  "orig_nbformat": 4
 },
 "nbformat": 4,
 "nbformat_minor": 2
}
