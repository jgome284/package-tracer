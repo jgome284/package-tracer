{
 "cells": [
  {
   "cell_type": "markdown",
   "metadata": {},
   "source": [
    "# arp\n",
    "ARP (Address Resolution Protocol) is a network protocol that is used to resolve IP addresses to MAC addresses. IP addresses are used to identify devices on a network at the network layer, while MAC addresses are used to identify devices on a network at the data link layer.\n",
    "\n",
    "The show arp command is used to display the ARP cache on a device. The ARP cache is a database that stores the IP addresses and MAC addresses of devices on the network.\n",
    "\n",
    "ARP works by sending out an ARP request packet. The ARP request packet contains the IP address of the destination device. When a device on the network receives an ARP request packet, it checks to see if the IP address in the request packet matches its own IP address. If the IP address matches, the device sends back an ARP reply packet. The ARP reply packet contains the MAC address of the device.\n",
    "\n",
    "The sending device then uses the MAC address in the ARP reply packet to forward the packet to the destination device.\n",
    "\n",
    "ARP is a dynamic protocol, which means that devices learn the MAC addresses of other devices on the network by sending and receiving ARP requests and replies.\n",
    "\n",
    "ARP is an important protocol for enabling communication between devices on a network. It provides a way for devices to resolve IP addresses to MAC addresses so that they can communicate with each other."
   ]
  },
  {
   "cell_type": "code",
   "execution_count": 1,
   "metadata": {
    "vscode": {
     "languageId": "powershell"
    }
   },
   "outputs": [
    {
     "name": "stdout",
     "output_type": "stream",
     "text": [
      "\n",
      "Displays and modifies the IP-to-Physical address translation tables used by\n",
      "address resolution protocol (ARP).\n",
      "\n",
      "ARP -s inet_addr eth_addr [if_addr]\n",
      "ARP -d inet_addr [if_addr]\n",
      "ARP -a [inet_addr] [-N if_addr] [-v]\n",
      "\n",
      "  -a            Displays current ARP entries by interrogating the current\n",
      "                protocol data.  If inet_addr is specified, the IP and Physical\n",
      "                addresses for only the specified computer are displayed.  If\n",
      "                more than one network interface uses ARP, entries for each ARP\n",
      "                table are displayed.\n",
      "  -g            Same as -a.\n",
      "  -v            Displays current ARP entries in verbose mode.  All invalid \n",
      "                entries and entries on the loop-back interface will be shown.\n",
      "  inet_addr     Specifies an internet address.\n",
      "  -N if_addr    Displays the ARP entries for the network interface specified\n",
      "                by if_addr.\n",
      "  -d            Deletes the host specified by inet_addr. inet_addr may be \n",
      "                wildcarded with * to delete all hosts.\n",
      "  -s            Adds the host and associates the Internet address inet_addr\n",
      "                with the Physical address eth_addr.  The Physical address is\n",
      "                given as 6 hexadecimal bytes separated by hyphens. The entry\n",
      "                is permanent.\n",
      "  eth_addr      Specifies a physical address.\n",
      "  if_addr       If present, this specifies the Internet address of the\n",
      "                interface whose address translation table should be modified.\n",
      "                If not present, the first applicable interface will be used.\n",
      "Example:\n",
      "  > arp -s 157.55.85.212   00-aa-00-62-c6-09  .... Adds a static entry.\n",
      "  > arp -a                                    .... Displays the arp table.\n"
     ]
    }
   ],
   "source": [
    "! arp -p"
   ]
  }
 ],
 "metadata": {
  "kernelspec": {
   "display_name": "Python 3",
   "language": "python",
   "name": "python3"
  },
  "language_info": {
   "codemirror_mode": {
    "name": "ipython",
    "version": 3
   },
   "file_extension": ".py",
   "mimetype": "text/x-python",
   "name": "python",
   "nbconvert_exporter": "python",
   "pygments_lexer": "ipython3",
   "version": "3.11.4"
  },
  "orig_nbformat": 4
 },
 "nbformat": 4,
 "nbformat_minor": 2
}
