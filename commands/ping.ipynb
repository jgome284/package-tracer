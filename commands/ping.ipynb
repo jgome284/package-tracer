{
 "cells": [
  {
   "cell_type": "markdown",
   "metadata": {},
   "source": [
    "# ping\n",
    "The ping command is a network utility that tests the reachability of a host on a network. It does this by sending a series of ICMP echo request packets to the host and waiting for ICMP echo reply packets to be returned.\n",
    "\n",
    "Here is an example of how to use the ping command:\n",
    "\n",
    "``ping 192.168.1.1``\n",
    "\n",
    "This command will send 4 ICMP echo request packets to the host at IP address 192.168.1.1 and wait for ICMP echo reply packets to be returned. If the host is reachable, the ping command will display the round-trip time (RTT) of each packet.\n",
    "\n",
    "If the host is not reachable, the ping command will display a message indicating that the host is unreachable.\n",
    "\n",
    "The ping command is a powerful tool that can be used to troubleshoot network connectivity problems, measure network latency, test network performance, and monitor network availability.\n",
    "\n",
    "## ICMP\n",
    "The ping command sends ICMP echo request/reply messages. ICMP echo request messages are used to test the reachability of a host on a network. The ping command sends a series of echo request messages to the host and waits for echo reply messages to be returned. If the host is reachable, the ping command will display the round-trip time (RTT) of each packet.\n",
    "\n",
    "ICMP (Internet Control Message Protocol) is a network protocol that is used to send error messages and other information between network devices. ICMP is used by a variety of network protocols, including TCP, UDP, and IP."
   ]
  },
  {
   "cell_type": "code",
   "execution_count": 1,
   "metadata": {
    "vscode": {
     "languageId": "powershell"
    }
   },
   "outputs": [
    {
     "name": "stdout",
     "output_type": "stream",
     "text": [
      "\n",
      "Usage: ping [-t] [-a] [-n count] [-l size] [-f] [-i TTL] [-v TOS]\n",
      "            [-r count] [-s count] [[-j host-list] | [-k host-list]]\n",
      "            [-w timeout] [-R] [-S srcaddr] [-c compartment] [-p]\n",
      "            [-4] [-6] target_name\n",
      "\n",
      "Options:\n",
      "    -t             Ping the specified host until stopped.\n",
      "                   To see statistics and continue - type Control-Break;\n",
      "                   To stop - type Control-C.\n",
      "    -a             Resolve addresses to hostnames.\n",
      "    -n count       Number of echo requests to send.\n",
      "    -l size        Send buffer size.\n",
      "    -f             Set Don't Fragment flag in packet (IPv4-only).\n",
      "    -i TTL         Time To Live.\n",
      "    -v TOS         Type Of Service (IPv4-only. This setting has been deprecated\n",
      "                   and has no effect on the type of service field in the IP\n",
      "                   Header).\n",
      "    -r count       Record route for count hops (IPv4-only).\n",
      "    -s count       Timestamp for count hops (IPv4-only).\n",
      "    -j host-list   Loose source route along host-list (IPv4-only).\n",
      "    -k host-list   Strict source route along host-list (IPv4-only).\n",
      "    -w timeout     Timeout in milliseconds to wait for each reply.\n",
      "    -R             Use routing header to test reverse route also (IPv6-only).\n",
      "                   Per RFC 5095 the use of this routing header has been\n",
      "                   deprecated. Some systems may drop echo requests if\n",
      "                   this header is used.\n",
      "    -S srcaddr     Source address to use.\n",
      "    -c compartment Routing compartment identifier.\n",
      "    -p             Ping a Hyper-V Network Virtualization provider address.\n",
      "    -4             Force using IPv4.\n",
      "    -6             Force using IPv6.\n",
      "\n"
     ]
    }
   ],
   "source": [
    "! ping"
   ]
  }
 ],
 "metadata": {
  "kernelspec": {
   "display_name": "Python 3",
   "language": "python",
   "name": "python3"
  },
  "language_info": {
   "codemirror_mode": {
    "name": "ipython",
    "version": 3
   },
   "file_extension": ".py",
   "mimetype": "text/x-python",
   "name": "python",
   "nbconvert_exporter": "python",
   "pygments_lexer": "ipython3",
   "version": "3.11.4"
  },
  "orig_nbformat": 4
 },
 "nbformat": 4,
 "nbformat_minor": 2
}
